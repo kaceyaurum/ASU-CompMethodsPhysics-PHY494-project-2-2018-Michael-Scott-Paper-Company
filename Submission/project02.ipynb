{
 "cells": [
  {
   "cell_type": "markdown",
   "metadata": {},
   "source": [
    "# Pseudo-code for project 2\n",
    "\n",
    "OBJECTIVE: Find parameters of shots that lead to goals using exhaustive parameter scan"
   ]
  },
  {
   "cell_type": "code",
   "execution_count": 6,
   "metadata": {
    "collapsed": true
   },
   "outputs": [],
   "source": [
    "import numpy as np\n",
    "import pandas as pd\n",
    "\n",
    "import ode\n",
    "\n",
    "import matplotlib.pyplot as plt\n",
    "%matplotlib notebook"
   ]
  },
  {
   "cell_type": "markdown",
   "metadata": {},
   "source": [
    "Should be at least 3 pages long"
   ]
  },
  {
   "cell_type": "markdown",
   "metadata": {},
   "source": [
    "First, define a shooting alogthim function in terms of \n",
    "\n",
    "    rho = air density\n",
    "    \n",
    "    g = Accl due to gravity\n",
    "    \n",
    "    m = mass \n",
    "    \n",
    "    D = diameter \n",
    "    \n",
    "    v0 = speed \n",
    "    \n",
    "    omega = spin (the axis of rotation is perpentidular with the ground)\n",
    "    \n",
    "    phi = azimuthal angle (horivantal angle)\n",
    "    \n",
    "    Theta = elevation angle (vertical angle)\n",
    "    \n",
    "[inspiration can be taken from the baseball homework, hw 7]"
   ]
  },
  {
   "cell_type": "markdown",
   "metadata": {},
   "source": [
    "Second, set up enviroemnts with proper dimensions for the two different types of kicks, including the goal and its target area. \n",
    "    1. free kick \n",
    "    2. corner kick"
   ]
  },
  {
   "cell_type": "markdown",
   "metadata": {},
   "source": [
    "Third, run shooting alogthim through range of paramters. "
   ]
  },
  {
   "cell_type": "code",
   "execution_count": 9,
   "metadata": {
    "collapsed": true
   },
   "outputs": [],
   "source": [
    "rho = 1.2     # kg m^-3\n",
    "g= 9.81     # kg m s^-2\n",
    "m = 0.436    # kg\n",
    "D = 0.218     # m\n",
    "r = D/2\n",
    "v0 = np.arange(24, 30.1, .1)   # m s^-1\n",
    "omega = np.arange(0, 75.6, .2)   # rad s^-1"
   ]
  },
  {
   "cell_type": "code",
   "execution_count": 14,
   "metadata": {
    "collapsed": true
   },
   "outputs": [],
   "source": [
    "#parameters for free kick\n",
    "fphis = np.arange(-0.0349066, 0.0872665, .001)  # rad [-2 deg to 5 deg]\n",
    "fthetas = np.arange(.174533, 0.349066, .001) # rad [10 deg to 20 deg]"
   ]
  },
  {
   "cell_type": "code",
   "execution_count": 15,
   "metadata": {
    "collapsed": true
   },
   "outputs": [],
   "source": [
    "#parameters for corner kick\n",
    "cphis = np.arange(-0.0698132, 0.0698132, .001)  # rad [-4 deg to 4 deg]\n",
    "cthetas = np.arange(0.349066, 0.523599, .001) # rad [20 deg to 30 deg]"
   ]
  },
  {
   "cell_type": "markdown",
   "metadata": {},
   "source": [
    "Objectives\n",
    " 1. talk about drag and lift coeffcients of ball\n",
    " 2. simulate trajectories of free kick and corner kick\n",
    " 3. plot in 2D and 3D and desricbe paramters of trajectories\n",
    " 4. Talk in depth about at one goal scoring shot for each: include parameters plots and a plot where omega = 0 to show influence of spin."
   ]
  },
  {
   "cell_type": "markdown",
   "metadata": {},
   "source": [
    "trajectory of free kick should stop calculating when\n",
    "  1. ball reaches goal line\n",
    "  2. ball touches ground\n",
    "  3. ball touches wall"
   ]
  },
  {
   "cell_type": "markdown",
   "metadata": {},
   "source": [
    "trajectory of corner kick should stop calculating when\n",
    "  1. ball reaches goal line\n",
    "  2. ball touches ground"
   ]
  },
  {
   "cell_type": "markdown",
   "metadata": {},
   "source": [
    "Possbily use 3D-plotting to show trajectories of shots. (especally goal-making shots). guidense can come from 14_PDEs_2.ipynb"
   ]
  },
  {
   "cell_type": "markdown",
   "metadata": {},
   "source": [
    "include refences and acknolegdments \n"
   ]
  },
  {
   "cell_type": "code",
   "execution_count": 16,
   "metadata": {
    "collapsed": true
   },
   "outputs": [],
   "source": [
    "vcrit = 12.19\n",
    "vs = 1.309"
   ]
  },
  {
   "cell_type": "code",
   "execution_count": 51,
   "metadata": {
    "collapsed": true
   },
   "outputs": [],
   "source": [
    "def F_G(m):\n",
    "    return -m*g\n",
    "\n",
    "def C_D(v, S):\n",
    "    if np.linalg.norm(v) < np.linalg.norm(vcrit) or S < .005:\n",
    "        return .155 + .346/(1+np.e**((v-vcrit)/vs))\n",
    "    else:\n",
    "        return .4127*S**.3056\n",
    "\n",
    "def F_D(v, S):\n",
    "    return -1/2*C_D(v, S)*rho*A*np.linalg.norm(v)*v\n",
    "\n",
    "def C_L(S):\n",
    "    return 1/2*S**.4\n",
    "\n",
    "def F_M(omega, v, S):\n",
    "    return 1/2*C_L(S)*rho*A*np.linalg.norm(v)/np.linalg.norm(omega)*np.cross(omega, v)"
   ]
  },
  {
   "cell_type": "code",
   "execution_count": 52,
   "metadata": {},
   "outputs": [],
   "source": [
    "def simulate_soccerball(v0, omega, theta, phi, r0, goalpos=np.array([0,0,0]),\n",
    "                        goalwidth=7.32, goalheight=2.44,\n",
    "                        h=0.0, g=9.81, rho=1.2,\n",
    "                        r=0.109, m=0.436, stupidwall=False, wallpos=np.array([-9.16, 0, 0]),\n",
    "                        wallheight=1.83):\n",
    "    \"\"\"simulate soccerball pitch\n",
    "\n",
    "    Parameters\n",
    "    ----------\n",
    "    v0 : array\n",
    "         initial velocity (vx, vy, vz) in m/s\n",
    "    omega : array\n",
    "         angular velocity vector of the ball (\"spin\"), in rad/s\n",
    "    theta : float\n",
    "         horizontal angle ball is kicked at\n",
    "    phi : float\n",
    "         vertical angle ball is kicked at\n",
    "    r0 : array\n",
    "         initial position of the ball (in m) when it leaves\n",
    "         as (x, y)\n",
    "    goalpos : array, optional\n",
    "         position of goal\n",
    "    goalwidth : float, optional\n",
    "         width of goal\n",
    "    goalheight : float, optional\n",
    "         height of goal\n",
    "    h : float, optional\n",
    "         integration time step in s, default is 0.01 s\n",
    "    g : float, optional\n",
    "         acceleration due to gravity, default 9.81 kg/(m*s^2)\n",
    "    rho : float, optional\n",
    "         density of air, default 1.225 kg/m^3\n",
    "    r : float, optional\n",
    "         radius of the soccerball\n",
    "    m : float, optional\n",
    "         mass of the soccerball\n",
    "    stupidwall : boolean\n",
    "         if there is a wall 3 m wide not centered with the goal because logic?\n",
    "    wallpos : array\n",
    "         position of maybe wall\n",
    "\n",
    "    Returns\n",
    "    -------\n",
    "\n",
    "    positions : array\n",
    "         The array contains an entry (time, x, y, z) for each time step.\n",
    "    \"\"\"\n",
    "    # all SI units (kg, m)\n",
    "\n",
    "    goal=False\n",
    "\n",
    "    omegamag = np.linalg.norm(omega)\n",
    "    A = np.pi*r**2\n",
    "    a_G = np.array([0, -g, 0])\n",
    "\n",
    "    def f(t, y):\n",
    "        # y = [x, y, z, vx, vy, vz]\n",
    "        v = y[3:]\n",
    "        vmag = np.linalg.norm(v)\n",
    "        S = r*omegamag/vmag\n",
    "        a_M = F_M(omega, v, S)/m\n",
    "        a_D = F_D(v, S)/m\n",
    "        a = a_G + a_D + a_M\n",
    "        return np.array([y[3], y[4], y[5],\n",
    "                         a[0], a[1], a[2]])\n",
    "\n",
    "    x0, y0, z0 = r0\n",
    "    vx, vy, vz = v0\n",
    "    t = 0\n",
    "    positions = []\n",
    "    # initialize 3D!\n",
    "    y = np.array([x0, y0, z0, vx, vy, vz], dtype=np.float64)\n",
    "    if not stupidwall:\n",
    "        while y[0] < goalpos[0] and y[1] > 0:\n",
    "            positions.append([t, y[0], y[1], y[2]])  # record t, x and y, z\n",
    "            y[:] = ode.rk4(y, f, t, h)\n",
    "            t += h\n",
    "\n",
    "    elif stupidwall:\n",
    "        while y[0] < goalpos[0] and y[2] >= 0 and not (y[0] == wallpos[0] and y[1] > wallpos[1]-1 and y[1] < wallpos[1]+2 and y[2] > wallpos[2] and y[2] < wallpos[2]+wallheight):\n",
    "            positions.append([t, y[0], y[1], y[2]])  # record t, x and y, z\n",
    "            y[:] = ode.rk4(y, f, t, h)\n",
    "            t += h\n",
    "\n",
    "    if y[1] > goalpos[1]-goalwidth/2 and y[1] < goalpos[1]+goalwidth/2 and y[2] < goalpos[2]+goalheight:\n",
    "        goal = True\n",
    "\n",
    "    return np.array(positions), goal"
   ]
  },
  {
   "cell_type": "code",
   "execution_count": null,
   "metadata": {},
   "outputs": [],
   "source": [
    "positions, goal = simulate_soccerball(np.array([27, 0, 0]), np.array([0, 0, 30]), .5, 0, (-18.3, 0, 0), goalpos=np.array([0,0,0]),\n",
    "                        goalwidth=7.32, goalheight=2.44, stupidwall=True)"
   ]
  },
  {
   "cell_type": "code",
   "execution_count": null,
   "metadata": {},
   "outputs": [],
   "source": [
    "print(goal)"
   ]
  },
  {
   "cell_type": "code",
   "execution_count": null,
   "metadata": {},
   "outputs": [],
   "source": [
    "print(positions)"
   ]
  },
  {
   "cell_type": "code",
   "execution_count": 13,
   "metadata": {
    "collapsed": true
   },
   "outputs": [],
   "source": [
    "# add your code here; you can copy and paste and modify\n",
    "# simulate_soccerball() from above\n",
    "\n",
    "def simulate_soccerball_avmaganced(v0, omega0, r0=None,\n",
    "                               h=0.01, g=9.81, rho=1.225,\n",
    "                               r=0.07468/2, m=0.14883,\n",
    "                               R_homeplate=18.4):\n",
    "    if r0 is None:\n",
    "        r0 = np.array([0, 2])  # pitching at 2m height\n",
    "\n",
    "    omega = np.asarray(omega0)\n",
    "    omegamag = np.linalg.norm(omega)\n",
    "    A = np.pi*r**2\n",
    "    rhoArm = rho*A*r/m\n",
    "\n",
    "    a_gravity = np.array([0, -g, 0])\n",
    "    def f(t, y):\n",
    "        # y = [x, y, z, vx, vy, vz]\n",
    "        chi = 1/4*(np.sqrt(sum(y[3:]**2))-34)\n",
    "        if chi<0:\n",
    "            C_D = .36+.14/(1+np.e**chi)-.27*np.e**(-chi**2)\n",
    "        else:\n",
    "            C_D = .36+.14/(1+np.e**chi)-.27*np.e**(-chi**2/4)\n",
    "        b2 = .5*C_D*rho*A\n",
    "        v = y[3:]\n",
    "        vmag = np.linalg.norm(v)\n",
    "        S = r*omegamag/vmag\n",
    "        a_magnus = 0.5 * C_L(S) * rhoArm / S * np.cross(omega, v)\n",
    "        a_drag = -b2/m * vmag * v\n",
    "        a = a_gravity + a_drag + a_magnus\n",
    "        return np.array([y[3], y[4], y[5],\n",
    "                         a[0], a[1], a[2]])\n",
    "    x0, y0 = r0\n",
    "    vx, vy = v0\n",
    "    t = 0\n",
    "    positions = []\n",
    "    # initialize 3D!\n",
    "    y = np.array([x0, y0, 0, vx, vy, 0], dtype=np.float64)\n",
    "\n",
    "    while y[0] < R_homeplate and y[1] >= 0.2:\n",
    "        positions.append([t, y[0], y[1], y[2]])  # record t, x and y, z\n",
    "        y[:] = ode.rk4(y, f, t, h)\n",
    "        omega = omega * np.e**(-t/5)\n",
    "        t += h\n",
    "    return np.array(positions)"
   ]
  },
  {
   "cell_type": "code",
   "execution_count": null,
   "metadata": {
    "collapsed": true
   },
   "outputs": [],
   "source": []
  }
 ],
 "metadata": {
  "kernelspec": {
   "display_name": "Python 3",
   "language": "python",
   "name": "python3"
  },
  "language_info": {
   "codemirror_mode": {
    "name": "ipython",
    "version": 3
   },
   "file_extension": ".py",
   "mimetype": "text/x-python",
   "name": "python",
   "nbconvert_exporter": "python",
   "pygments_lexer": "ipython3",
   "version": "3.6.3"
  }
 },
 "nbformat": 4,
 "nbformat_minor": 2
}
