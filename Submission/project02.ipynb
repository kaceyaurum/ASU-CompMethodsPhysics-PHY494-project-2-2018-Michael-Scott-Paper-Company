{
 "cells": [
  {
   "cell_type": "markdown",
   "metadata": {},
   "source": [
    "# Pseudo-code for project 2\n",
    "\n",
    "OBJECTIVE: Find parameters of shots that lead to goals using exhaustive parameter scan"
   ]
  },
  {
   "cell_type": "code",
   "execution_count": 2,
   "metadata": {
    "collapsed": true
   },
   "outputs": [],
   "source": [
    "import numpy as np\n",
    "import pandas as pd\n",
    "\n",
    "import ode\n",
    "\n",
    "import matplotlib.pyplot as plt\n",
    "%matplotlib notebook"
   ]
  },
  {
   "cell_type": "markdown",
   "metadata": {},
   "source": [
    "Should be at least 3 pages long"
   ]
  },
  {
   "cell_type": "markdown",
   "metadata": {},
   "source": [
    "First, define a shooting alogthim function in terms of \n",
    "\n",
    "    rho = air density\n",
    "    \n",
    "    g = Accl due to gravity\n",
    "    \n",
    "    m = mass \n",
    "    \n",
    "    D = diameter \n",
    "    \n",
    "    v0 = speed \n",
    "    \n",
    "    omega = spin (the axis of rotation is perpentidular with the ground)\n",
    "    \n",
    "    phi = azimuthal angle (horivantal angle)\n",
    "    \n",
    "    Theta = elevation angle (vertical angle)\n",
    "    \n",
    "[inspiration can be taken from the baseball homework, hw 7]"
   ]
  },
  {
   "cell_type": "markdown",
   "metadata": {},
   "source": [
    "Second, set up enviroemnts with proper dimensions for the two different types of kicks, including the goal and its target area. \n",
    "    1. free kick \n",
    "    2. corner kick"
   ]
  },
  {
   "cell_type": "markdown",
   "metadata": {},
   "source": [
    "Third, run shooting alogthim through range of paramters. "
   ]
  },
  {
   "cell_type": "code",
   "execution_count": 3,
   "metadata": {},
   "outputs": [],
   "source": [
    "rho = 1.2     # kg m^-3\n",
    "g= 9.81     # kg m s^-2\n",
    "m = 0.436    # kg\n",
    "D = 0.218     # m\n",
    "r = D/2\n",
    "A = np.pi*r**2\n",
    "v0 = np.arange(24, 30.1, .1)   # m s^-1\n",
    "omega = np.arange(0, 75.6, .2)   # rad s^-1"
   ]
  },
  {
   "cell_type": "code",
   "execution_count": 4,
   "metadata": {
    "collapsed": true
   },
   "outputs": [],
   "source": [
    "#parameters for free kick\n",
    "fphis = np.arange(-0.0349066, 0.0872665, .001)  # rad [-2 deg to 5 deg]\n",
    "fthetas = np.arange(.174533, 0.349066, .001) # rad [10 deg to 20 deg]"
   ]
  },
  {
   "cell_type": "code",
   "execution_count": 5,
   "metadata": {
    "collapsed": true
   },
   "outputs": [],
   "source": [
    "#parameters for corner kick\n",
    "cphis = np.arange(-0.0698132, 0.0698132, .001)  # rad [-4 deg to 4 deg]\n",
    "cthetas = np.arange(0.349066, 0.523599, .001) # rad [20 deg to 30 deg]"
   ]
  },
  {
   "cell_type": "markdown",
   "metadata": {},
   "source": [
    "Objectives\n",
    " 1. talk about drag and lift coeffcients of ball\n",
    " 2. simulate trajectories of free kick and corner kick\n",
    " 3. plot in 2D and 3D and desricbe paramters of trajectories\n",
    " 4. Talk in depth about at one goal scoring shot for each: include parameters plots and a plot where omega = 0 to show influence of spin."
   ]
  },
  {
   "cell_type": "markdown",
   "metadata": {},
   "source": [
    "trajectory of free kick should stop calculating when\n",
    "  1. ball reaches goal line\n",
    "  2. ball touches ground\n",
    "  3. ball touches wall"
   ]
  },
  {
   "cell_type": "markdown",
   "metadata": {},
   "source": [
    "trajectory of corner kick should stop calculating when\n",
    "  1. ball reaches goal line\n",
    "  2. ball touches ground"
   ]
  },
  {
   "cell_type": "markdown",
   "metadata": {},
   "source": [
    "Possbily use 3D-plotting to show trajectories of shots. (especally goal-making shots). guidense can come from 14_PDEs_2.ipynb"
   ]
  },
  {
   "cell_type": "markdown",
   "metadata": {},
   "source": [
    "include refences and acknolegdments \n"
   ]
  },
  {
   "cell_type": "code",
   "execution_count": 6,
   "metadata": {
    "collapsed": true
   },
   "outputs": [],
   "source": [
    "vcrit = 12.19\n",
    "vs = 1.309"
   ]
  },
  {
   "cell_type": "code",
   "execution_count": 42,
   "metadata": {
    "collapsed": true
   },
   "outputs": [],
   "source": [
    "def F_G(m):\n",
    "    return -m*g\n",
    "\n",
    "def C_D(v, S):\n",
    "    if np.linalg.norm(v) < np.linalg.norm(vcrit) or S < .005:\n",
    "        return .155 + .346/(1+np.e**((v-vcrit)/vs))\n",
    "    else:\n",
    "        return .4127*S**.3056\n",
    "\n",
    "def F_D(v, S):\n",
    "    return -1/2*C_D(v, S)*rho*A*np.linalg.norm(v)*v\n",
    "\n",
    "def C_L(S):\n",
    "    a = 1/2*S**.4\n",
    "    return a\n",
    "\n",
    "def F_M(omega, v, S):\n",
    "    C_L = 1/2*S**.4\n",
    "    return 1/2*C_L*rho*A*np.linalg.norm(v)/np.linalg.norm(omega)*np.cross(omega, v)"
   ]
  },
  {
   "cell_type": "code",
   "execution_count": 78,
   "metadata": {
    "collapsed": true
   },
   "outputs": [],
   "source": [
    "def simulate_soccerball(v0, omega, theta, phi, r0, goalpos=np.array([0,0,0]),\n",
    "                        goalwidth=7.32, goalheight=2.44,\n",
    "                        h=0.01, g=9.81, rho=1.2, r=0.109, m=0.436,\n",
    "                        stupidwall=False, wallpos=np.array([-9.16, 0, 0]),\n",
    "                        wallheight=1.83):\n",
    "    \"\"\"simulate soccerball pitch\n",
    "\n",
    "    Parameters\n",
    "    ----------\n",
    "    v0 : array\n",
    "         initial velocity (vx, vy, vz) in m/s\n",
    "    omega : array\n",
    "         angular velocity vector of the ball (\"spin\"), in rad/s\n",
    "    theta : float\n",
    "         horizontal angle ball is kicked at\n",
    "    phi : float\n",
    "         vertical angle ball is kicked at\n",
    "    r0 : array\n",
    "         initial position of the ball (in m) when it leaves\n",
    "         as (x, y)\n",
    "    goalpos : array, optional\n",
    "         position of goal\n",
    "    goalwidth : float, optional\n",
    "         width of goal\n",
    "    goalheight : float, optional\n",
    "         height of goal\n",
    "    h : float, optional\n",
    "         integration time step in s, default is 0.01 s\n",
    "    g : float, optional\n",
    "         acceleration due to gravity, default 9.81 kg/(m*s^2)\n",
    "    rho : float, optional\n",
    "         density of air, default 1.225 kg/m^3\n",
    "    r : float, optional\n",
    "         radius of the soccerball\n",
    "    m : float, optional\n",
    "         mass of the soccerball\n",
    "    stupidwall : boolean\n",
    "         if there is a wall 3 m wide not centered with the goal because logic?\n",
    "    wallpos : array\n",
    "         position of maybe wall\n",
    "\n",
    "    Returns\n",
    "    -------\n",
    "\n",
    "    positions : array\n",
    "         The array contains an entry (time, x, y, z) for each time step.\n",
    "    \"\"\"\n",
    "    # all SI units (kg, m)\n",
    "\n",
    "    goal=False\n",
    "\n",
    "    omegamag = np.linalg.norm(omega)\n",
    "    A = np.pi*r**2\n",
    "    a_G = np.array([0, -g, 0])\n",
    "\n",
    "    def f(t, y):\n",
    "        # y = [x, y, z, vx, vy, vz]\n",
    "        v = y[3:]\n",
    "        vmag = np.linalg.norm(v)\n",
    "        S = r*omegamag/vmag\n",
    "        a_M = F_M(omega, v, S)/m\n",
    "        a_D = F_D(v, S)/m\n",
    "        a = a_G + a_D + a_M\n",
    "        return np.array([y[3], y[4], y[5],\n",
    "                         a[0], a[1], a[2]])\n",
    "\n",
    "    x0, y0, z0 = r0\n",
    "    vx, vy, vz = v0\n",
    "    t = 0\n",
    "    positions = []\n",
    "    # initialize 3D!\n",
    "    y = np.array([x0, y0, z0, vx, vy, vz], dtype=np.float64)\n",
    "    if not stupidwall:\n",
    "        while y[0] < goalpos[0] and y[2] >= 0 and abs(y[1]) <= 34.26:\n",
    "            positions.append([t, y[0], y[1], y[2]])  # record t, x and y, z\n",
    "            y[:] = ode.rk4(y, f, t, h)\n",
    "            t += h\n",
    "\n",
    "    elif stupidwall:\n",
    "        while y[0] < goalpos[0] and y[2] >= 0 and abs(y[1]) <= 34.26 and not (y[0] == wallpos[0] and y[1] > wallpos[1]-1 and y[1] < wallpos[1]+2 and y[2] > wallpos[2] and y[2] < wallpos[2]+wallheight):\n",
    "            positions.append([t, y[0], y[1], y[2]])  # record t, x and y, z\n",
    "            y[:] = ode.rk4(y, f, t, h)\n",
    "            t += h\n",
    "\n",
    "    if y[1] > goalpos[1]-goalwidth/2 and y[1] < goalpos[1]+goalwidth/2 and y[2] < goalpos[2]+goalheight:\n",
    "        goal = True\n",
    "\n",
    "    return np.array(positions), goal"
   ]
  },
  {
   "cell_type": "code",
   "execution_count": 79,
   "metadata": {},
   "outputs": [],
   "source": [
    "positions, goal = simulate_soccerball(np.array([27, 0, 0]), np.array([0, 0, 30]), .5, 0, (-18.3, 0, 0), goalpos=np.array([0,0,0]),\n",
    "                        goalwidth=7.32, goalheight=2.44, stupidwall=True)"
   ]
  },
  {
   "cell_type": "code",
   "execution_count": 80,
   "metadata": {},
   "outputs": [
    {
     "name": "stdout",
     "output_type": "stream",
     "text": [
      "True\n"
     ]
    }
   ],
   "source": [
    "print(goal)"
   ]
  },
  {
   "cell_type": "code",
   "execution_count": 81,
   "metadata": {},
   "outputs": [
    {
     "name": "stdout",
     "output_type": "stream",
     "text": [
      "[[  0.00000000e+00  -1.83000000e+01   0.00000000e+00   0.00000000e+00]\n",
      " [  1.00000000e-02  -1.80304046e+01  -8.87001365e-05   0.00000000e+00]\n",
      " [  2.00000000e-02  -1.77616152e+01  -3.57006416e-04   0.00000000e+00]\n",
      " [  3.00000000e-02  -1.74936272e+01  -8.08200108e-04   0.00000000e+00]\n",
      " [  4.00000000e-02  -1.72264361e+01  -1.44552606e-03   0.00000000e+00]\n",
      " [  5.00000000e-02  -1.69600373e+01  -2.27219308e-03   0.00000000e+00]\n",
      " [  6.00000000e-02  -1.66944262e+01  -3.29137426e-03   0.00000000e+00]\n",
      " [  7.00000000e-02  -1.64295983e+01  -4.50620736e-03   0.00000000e+00]\n",
      " [  8.00000000e-02  -1.61655492e+01  -5.91979515e-03   0.00000000e+00]\n",
      " [  9.00000000e-02  -1.59022743e+01  -7.53520574e-03   0.00000000e+00]\n",
      " [  1.00000000e-01  -1.56397693e+01  -9.35547294e-03   0.00000000e+00]\n",
      " [  1.10000000e-01  -1.53780296e+01  -1.13835966e-02   0.00000000e+00]\n",
      " [  1.20000000e-01  -1.51170509e+01  -1.36225429e-02   0.00000000e+00]\n",
      " [  1.30000000e-01  -1.48568288e+01  -1.60752448e-02   0.00000000e+00]\n",
      " [  1.40000000e-01  -1.45973591e+01  -1.87446022e-02   0.00000000e+00]\n",
      " [  1.50000000e-01  -1.43386372e+01  -2.16334822e-02   0.00000000e+00]\n",
      " [  1.60000000e-01  -1.40806590e+01  -2.47447200e-02   0.00000000e+00]\n",
      " [  1.70000000e-01  -1.38234201e+01  -2.80811182e-02   0.00000000e+00]\n",
      " [  1.80000000e-01  -1.35669163e+01  -3.16454482e-02   0.00000000e+00]\n",
      " [  1.90000000e-01  -1.33111434e+01  -3.54404496e-02   0.00000000e+00]\n",
      " [  2.00000000e-01  -1.30560971e+01  -3.94688311e-02   0.00000000e+00]\n",
      " [  2.10000000e-01  -1.28017732e+01  -4.37332705e-02   0.00000000e+00]\n",
      " [  2.20000000e-01  -1.25481677e+01  -4.82364151e-02   0.00000000e+00]\n",
      " [  2.30000000e-01  -1.22952762e+01  -5.29808820e-02   0.00000000e+00]\n",
      " [  2.40000000e-01  -1.20430948e+01  -5.79692585e-02   0.00000000e+00]\n",
      " [  2.50000000e-01  -1.17916192e+01  -6.32041019e-02   0.00000000e+00]\n",
      " [  2.60000000e-01  -1.15408455e+01  -6.86879404e-02   0.00000000e+00]\n",
      " [  2.70000000e-01  -1.12907695e+01  -7.44232731e-02   0.00000000e+00]\n",
      " [  2.80000000e-01  -1.10413873e+01  -8.04125702e-02   0.00000000e+00]\n",
      " [  2.90000000e-01  -1.07926948e+01  -8.66582734e-02   0.00000000e+00]\n",
      " [  3.00000000e-01  -1.05446880e+01  -9.31627960e-02   0.00000000e+00]\n",
      " [  3.10000000e-01  -1.02973629e+01  -9.99285236e-02   0.00000000e+00]\n",
      " [  3.20000000e-01  -1.00507156e+01  -1.06957814e-01   0.00000000e+00]\n",
      " [  3.30000000e-01  -9.80474219e+00  -1.14252996e-01   0.00000000e+00]\n",
      " [  3.40000000e-01  -9.55943873e+00  -1.21816375e-01   0.00000000e+00]\n",
      " [  3.50000000e-01  -9.31480133e+00  -1.29650225e-01   0.00000000e+00]\n",
      " [  3.60000000e-01  -9.07082614e+00  -1.37756796e-01   0.00000000e+00]\n",
      " [  3.70000000e-01  -8.82750931e+00  -1.46138310e-01   0.00000000e+00]\n",
      " [  3.80000000e-01  -8.58484701e+00  -1.54796964e-01   0.00000000e+00]\n",
      " [  3.90000000e-01  -8.34283544e+00  -1.63734929e-01   0.00000000e+00]\n",
      " [  4.00000000e-01  -8.10147081e+00  -1.72954349e-01   0.00000000e+00]\n",
      " [  4.10000000e-01  -7.86074938e+00  -1.82457344e-01   0.00000000e+00]\n",
      " [  4.20000000e-01  -7.62066739e+00  -1.92246006e-01   0.00000000e+00]\n",
      " [  4.30000000e-01  -7.38122112e+00  -2.02322406e-01   0.00000000e+00]\n",
      " [  4.40000000e-01  -7.14240687e+00  -2.12688587e-01   0.00000000e+00]\n",
      " [  4.50000000e-01  -6.90422096e+00  -2.23346569e-01   0.00000000e+00]\n",
      " [  4.60000000e-01  -6.66665974e+00  -2.34298346e-01   0.00000000e+00]\n",
      " [  4.70000000e-01  -6.42971955e+00  -2.45545889e-01   0.00000000e+00]\n",
      " [  4.80000000e-01  -6.19339679e+00  -2.57091146e-01   0.00000000e+00]\n",
      " [  4.90000000e-01  -5.95768784e+00  -2.68936039e-01   0.00000000e+00]\n",
      " [  5.00000000e-01  -5.72258913e+00  -2.81082468e-01   0.00000000e+00]\n",
      " [  5.10000000e-01  -5.48809709e+00  -2.93532308e-01   0.00000000e+00]\n",
      " [  5.20000000e-01  -5.25420819e+00  -3.06287415e-01   0.00000000e+00]\n",
      " [  5.30000000e-01  -5.02091889e+00  -3.19349616e-01   0.00000000e+00]\n",
      " [  5.40000000e-01  -4.78822570e+00  -3.32720721e-01   0.00000000e+00]\n",
      " [  5.50000000e-01  -4.55612513e+00  -3.46402513e-01   0.00000000e+00]\n",
      " [  5.60000000e-01  -4.32461372e+00  -3.60396756e-01   0.00000000e+00]\n",
      " [  5.70000000e-01  -4.09368802e+00  -3.74705190e-01   0.00000000e+00]\n",
      " [  5.80000000e-01  -3.86334460e+00  -3.89329534e-01   0.00000000e+00]\n",
      " [  5.90000000e-01  -3.63358005e+00  -4.04271485e-01   0.00000000e+00]\n",
      " [  6.00000000e-01  -3.40439099e+00  -4.19532717e-01   0.00000000e+00]\n",
      " [  6.10000000e-01  -3.17577404e+00  -4.35114885e-01   0.00000000e+00]\n",
      " [  6.20000000e-01  -2.94772585e+00  -4.51019622e-01   0.00000000e+00]\n",
      " [  6.30000000e-01  -2.72024308e+00  -4.67248539e-01   0.00000000e+00]\n",
      " [  6.40000000e-01  -2.49332242e+00  -4.83803226e-01   0.00000000e+00]\n",
      " [  6.50000000e-01  -2.26696057e+00  -5.00685256e-01   0.00000000e+00]\n",
      " [  6.60000000e-01  -2.04115425e+00  -5.17896176e-01   0.00000000e+00]\n",
      " [  6.70000000e-01  -1.81590021e+00  -5.35437517e-01   0.00000000e+00]\n",
      " [  6.80000000e-01  -1.59119518e+00  -5.53310787e-01   0.00000000e+00]\n",
      " [  6.90000000e-01  -1.36703596e+00  -5.71517477e-01   0.00000000e+00]\n",
      " [  7.00000000e-01  -1.14341933e+00  -5.90059055e-01   0.00000000e+00]\n",
      " [  7.10000000e-01  -9.20342100e-01  -6.08936971e-01   0.00000000e+00]\n",
      " [  7.20000000e-01  -6.97801098e-01  -6.28152657e-01   0.00000000e+00]\n",
      " [  7.30000000e-01  -4.75793170e-01  -6.47707522e-01   0.00000000e+00]\n",
      " [  7.40000000e-01  -2.54315176e-01  -6.67602959e-01   0.00000000e+00]\n",
      " [  7.50000000e-01  -3.33639963e-02  -6.87840341e-01   0.00000000e+00]]\n"
     ]
    }
   ],
   "source": [
    "print(positions)"
   ]
  },
  {
   "cell_type": "code",
   "execution_count": null,
   "metadata": {
    "collapsed": true
   },
   "outputs": [],
   "source": []
  },
  {
   "cell_type": "code",
   "execution_count": null,
   "metadata": {
    "collapsed": true
   },
   "outputs": [],
   "source": []
  },
  {
   "cell_type": "code",
   "execution_count": null,
   "metadata": {
    "collapsed": true
   },
   "outputs": [],
   "source": []
  },
  {
   "cell_type": "code",
   "execution_count": null,
   "metadata": {
    "collapsed": true
   },
   "outputs": [],
   "source": []
  },
  {
   "cell_type": "code",
   "execution_count": null,
   "metadata": {
    "collapsed": true
   },
   "outputs": [],
   "source": []
  },
  {
   "cell_type": "code",
   "execution_count": null,
   "metadata": {
    "collapsed": true
   },
   "outputs": [],
   "source": []
  },
  {
   "cell_type": "code",
   "execution_count": null,
   "metadata": {
    "collapsed": true
   },
   "outputs": [],
   "source": []
  },
  {
   "cell_type": "code",
   "execution_count": null,
   "metadata": {
    "collapsed": true
   },
   "outputs": [],
   "source": []
  },
  {
   "cell_type": "code",
   "execution_count": null,
   "metadata": {
    "collapsed": true
   },
   "outputs": [],
   "source": []
  },
  {
   "cell_type": "code",
   "execution_count": null,
   "metadata": {
    "collapsed": true
   },
   "outputs": [],
   "source": []
  },
  {
   "cell_type": "code",
   "execution_count": null,
   "metadata": {
    "collapsed": true
   },
   "outputs": [],
   "source": []
  },
  {
   "cell_type": "code",
   "execution_count": null,
   "metadata": {
    "collapsed": true
   },
   "outputs": [],
   "source": []
  },
  {
   "cell_type": "code",
   "execution_count": null,
   "metadata": {
    "collapsed": true
   },
   "outputs": [],
   "source": []
  },
  {
   "cell_type": "code",
   "execution_count": null,
   "metadata": {
    "collapsed": true
   },
   "outputs": [],
   "source": []
  },
  {
   "cell_type": "code",
   "execution_count": null,
   "metadata": {
    "collapsed": true
   },
   "outputs": [],
   "source": []
  },
  {
   "cell_type": "code",
   "execution_count": 13,
   "metadata": {
    "collapsed": true
   },
   "outputs": [],
   "source": [
    "# add your code here; you can copy and paste and modify\n",
    "# simulate_soccerball() from above\n",
    "\n",
    "def simulate_soccerball_avmaganced(v0, omega0, r0=None,\n",
    "                               h=0.01, g=9.81, rho=1.225,\n",
    "                               r=0.07468/2, m=0.14883,\n",
    "                               R_homeplate=18.4):\n",
    "    if r0 is None:\n",
    "        r0 = np.array([0, 2])  # pitching at 2m height\n",
    "\n",
    "    omega = np.asarray(omega0)\n",
    "    omegamag = np.linalg.norm(omega)\n",
    "    A = np.pi*r**2\n",
    "    rhoArm = rho*A*r/m\n",
    "\n",
    "    a_gravity = np.array([0, -g, 0])\n",
    "    def f(t, y):\n",
    "        # y = [x, y, z, vx, vy, vz]\n",
    "        chi = 1/4*(np.sqrt(sum(y[3:]**2))-34)\n",
    "        if chi<0:\n",
    "            C_D = .36+.14/(1+np.e**chi)-.27*np.e**(-chi**2)\n",
    "        else:\n",
    "            C_D = .36+.14/(1+np.e**chi)-.27*np.e**(-chi**2/4)\n",
    "        b2 = .5*C_D*rho*A\n",
    "        v = y[3:]\n",
    "        vmag = np.linalg.norm(v)\n",
    "        S = r*omegamag/vmag\n",
    "        a_magnus = 0.5 * C_L(S) * rhoArm / S * np.cross(omega, v)\n",
    "        a_drag = -b2/m * vmag * v\n",
    "        a = a_gravity + a_drag + a_magnus\n",
    "        return np.array([y[3], y[4], y[5],\n",
    "                         a[0], a[1], a[2]])\n",
    "    x0, y0 = r0\n",
    "    vx, vy = v0\n",
    "    t = 0\n",
    "    positions = []\n",
    "    # initialize 3D!\n",
    "    y = np.array([x0, y0, 0, vx, vy, 0], dtype=np.float64)\n",
    "\n",
    "    while y[0] < R_homeplate and y[1] >= 0.2:\n",
    "        positions.append([t, y[0], y[1], y[2]])  # record t, x and y, z\n",
    "        y[:] = ode.rk4(y, f, t, h)\n",
    "        omega = omega * np.e**(-t/5)\n",
    "        t += h\n",
    "    return np.array(positions)"
   ]
  },
  {
   "cell_type": "code",
   "execution_count": null,
   "metadata": {
    "collapsed": true
   },
   "outputs": [],
   "source": []
  }
 ],
 "metadata": {
  "kernelspec": {
   "display_name": "Python 3",
   "language": "python",
   "name": "python3"
  },
  "language_info": {
   "codemirror_mode": {
    "name": "ipython",
    "version": 3
   },
   "file_extension": ".py",
   "mimetype": "text/x-python",
   "name": "python",
   "nbconvert_exporter": "python",
   "pygments_lexer": "ipython3",
   "version": "3.6.3"
  }
 },
 "nbformat": 4,
 "nbformat_minor": 2
}
