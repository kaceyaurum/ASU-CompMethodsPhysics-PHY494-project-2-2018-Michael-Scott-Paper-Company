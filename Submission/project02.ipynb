{
 "cells": [
  {
   "cell_type": "markdown",
   "metadata": {},
   "source": [
    "# Pseudo-code for project 2\n",
    "\n",
    "OBJECTIVE: Find parameters of shots that lead to goals using exhaustive parameter scan"
   ]
  },
  {
   "cell_type": "code",
   "execution_count": 3,
   "metadata": {},
   "outputs": [],
   "source": [
    "import numpy as np\n",
    "import matplotlib.pyplot as plt\n"
   ]
  },
  {
   "cell_type": "markdown",
   "metadata": {},
   "source": [
    "Should be at least 3 pages long"
   ]
  },
  {
   "cell_type": "markdown",
   "metadata": {},
   "source": [
    "First, define a shooting alogthim function in terms of \n",
    "    rho = air density\n",
    "    g = Accl due to gravity\n",
    "    m = mass \n",
    "    D = diameter \n",
    "    v0 = speed \n",
    "    omega = spin (the axis of rotation is perpentidular with the ground)\n",
    "    phi = azimuthal angle (horivantal angle)\n",
    "    Theta = elevation angle (vertical angle)\n",
    "    \n",
    "[inspiration can be taken from the baseball homework, hw 7]"
   ]
  },
  {
   "cell_type": "markdown",
   "metadata": {},
   "source": [
    "Second, set up enviroemnts with proper dimensions for the two different types of kicks, including the goal and its target area. \n",
    "    1. free kick \n",
    "    2. corner kick"
   ]
  },
  {
   "cell_type": "markdown",
   "metadata": {},
   "source": [
    "Third, run shooting alogthim through range of paramters. "
   ]
  },
  {
   "cell_type": "code",
   "execution_count": 20,
   "metadata": {},
   "outputs": [],
   "source": [
    "#parameters for free kick \n",
    "rho = 1.2     # kg m^-3\n",
    "g= 9.81     # kg m s^-2\n",
    "m = 0.436    # kg\n",
    "D = 0.218     # m\n",
    "v0 = np.arange(24, 30.1, .1)   # m s^-1\n",
    "omega = np.arange(0, 75.6, .2)   # rad s^-1\n",
    "phi = np.arange(-0.0349066, 0.0872665, .001)  # rad [-2 deg to 5 deg]\n",
    "theta = np.arange(.174533, 0.349066, .001) # rad [10 deg to 20 deg]"
   ]
  },
  {
   "cell_type": "code",
   "execution_count": 23,
   "metadata": {},
   "outputs": [],
   "source": [
    "#parameters for corner kick\n",
    "rho = 1.2     # kg m^-3\n",
    "g= 9.81     # kg m s^-2\n",
    "m = 0.436    # kg\n",
    "D = 0.218     # m\n",
    "v0 = np.arange(24, 30.1, .1)   # m s^-1\n",
    "omega = np.arange(0, 75.6, .2)   # rad s^-1\n",
    "phi = np.arange(-0.0698132, 0.0698132, .001)  # rad [-4 deg to 4 deg]\n",
    "theta = np.arange(0.349066, 0.523599, .001) # rad [20 deg to 30 deg]"
   ]
  },
  {
   "cell_type": "code",
   "execution_count": 21,
   "metadata": {},
   "outputs": [
    {
     "data": {
      "text/plain": [
       "array([ 0.174533,  0.175533,  0.176533,  0.177533,  0.178533,  0.179533,\n",
       "        0.180533,  0.181533,  0.182533,  0.183533,  0.184533,  0.185533,\n",
       "        0.186533,  0.187533,  0.188533,  0.189533,  0.190533,  0.191533,\n",
       "        0.192533,  0.193533,  0.194533,  0.195533,  0.196533,  0.197533,\n",
       "        0.198533,  0.199533,  0.200533,  0.201533,  0.202533,  0.203533,\n",
       "        0.204533,  0.205533,  0.206533,  0.207533,  0.208533,  0.209533,\n",
       "        0.210533,  0.211533,  0.212533,  0.213533,  0.214533,  0.215533,\n",
       "        0.216533,  0.217533,  0.218533,  0.219533,  0.220533,  0.221533,\n",
       "        0.222533,  0.223533,  0.224533,  0.225533,  0.226533,  0.227533,\n",
       "        0.228533,  0.229533,  0.230533,  0.231533,  0.232533,  0.233533,\n",
       "        0.234533,  0.235533,  0.236533,  0.237533,  0.238533,  0.239533,\n",
       "        0.240533,  0.241533,  0.242533,  0.243533,  0.244533,  0.245533,\n",
       "        0.246533,  0.247533,  0.248533,  0.249533,  0.250533,  0.251533,\n",
       "        0.252533,  0.253533,  0.254533,  0.255533,  0.256533,  0.257533,\n",
       "        0.258533,  0.259533,  0.260533,  0.261533,  0.262533,  0.263533,\n",
       "        0.264533,  0.265533,  0.266533,  0.267533,  0.268533,  0.269533,\n",
       "        0.270533,  0.271533,  0.272533,  0.273533,  0.274533,  0.275533,\n",
       "        0.276533,  0.277533,  0.278533,  0.279533,  0.280533,  0.281533,\n",
       "        0.282533,  0.283533,  0.284533,  0.285533,  0.286533,  0.287533,\n",
       "        0.288533,  0.289533,  0.290533,  0.291533,  0.292533,  0.293533,\n",
       "        0.294533,  0.295533,  0.296533,  0.297533,  0.298533,  0.299533,\n",
       "        0.300533,  0.301533,  0.302533,  0.303533,  0.304533,  0.305533,\n",
       "        0.306533,  0.307533,  0.308533,  0.309533,  0.310533,  0.311533,\n",
       "        0.312533,  0.313533,  0.314533,  0.315533,  0.316533,  0.317533,\n",
       "        0.318533,  0.319533,  0.320533,  0.321533,  0.322533,  0.323533,\n",
       "        0.324533,  0.325533,  0.326533,  0.327533,  0.328533,  0.329533,\n",
       "        0.330533,  0.331533,  0.332533,  0.333533,  0.334533,  0.335533,\n",
       "        0.336533,  0.337533,  0.338533,  0.339533,  0.340533,  0.341533,\n",
       "        0.342533,  0.343533,  0.344533,  0.345533,  0.346533,  0.347533,\n",
       "        0.348533])"
      ]
     },
     "execution_count": 21,
     "metadata": {},
     "output_type": "execute_result"
    }
   ],
   "source": [
    "theta"
   ]
  },
  {
   "cell_type": "markdown",
   "metadata": {},
   "source": [
    "Objectives\n",
    " 1. talk about drag and lift coeffcients of ball\n",
    " 2. simulate trajectories of free kick and corner kick\n",
    " 3. plot in 2D and 3D and desricbe paramters of trajectories\n",
    " 4. Talk in depth about at one goal scoring shot for each: include parameters plots and a plot where omega = 0 to show influence of spin."
   ]
  },
  {
   "cell_type": "markdown",
   "metadata": {},
   "source": [
    "trajectory of free kick should stop calculating when\n",
    "  1. ball reaches goal line\n",
    "  2. ball touches ground\n",
    "  3. ball touches wall"
   ]
  },
  {
   "cell_type": "markdown",
   "metadata": {},
   "source": [
    "trajectory of corner kick should stop calculating when\n",
    "  1. ball reaches goal line\n",
    "  2. ball touches ground"
   ]
  },
  {
   "cell_type": "markdown",
   "metadata": {},
   "source": [
    "Possbily use 3D-plotting to show trajectories of shots. (especally goal-making shots). guidense can come from 14_PDEs_2.ipynb"
   ]
  },
  {
   "cell_type": "markdown",
   "metadata": {},
   "source": [
    "include refences and acknolegdments \n"
   ]
  }
 ],
 "metadata": {
  "kernelspec": {
   "display_name": "Python 3",
   "language": "python",
   "name": "python3"
  },
  "language_info": {
   "codemirror_mode": {
    "name": "ipython",
    "version": 3
   },
   "file_extension": ".py",
   "mimetype": "text/x-python",
   "name": "python",
   "nbconvert_exporter": "python",
   "pygments_lexer": "ipython3",
   "version": "3.6.3"
  }
 },
 "nbformat": 4,
 "nbformat_minor": 2
}
