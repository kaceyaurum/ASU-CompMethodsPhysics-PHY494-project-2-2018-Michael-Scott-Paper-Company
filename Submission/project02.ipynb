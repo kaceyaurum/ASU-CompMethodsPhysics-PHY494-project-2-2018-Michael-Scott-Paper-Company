{
 "cells": [
  {
   "cell_type": "markdown",
   "metadata": {},
   "source": [
    "# Pseudo-code for project 2\n",
    "\n",
    "OBJECTIVE: Find parameters of shots that lead to goals using exhaustive parameter scan"
   ]
  },
  {
   "cell_type": "markdown",
   "metadata": {},
   "source": [
    "Should be at least 3 pages long"
   ]
  },
  {
   "cell_type": "markdown",
   "metadata": {},
   "source": [
    "First, define shooting alogthim"
   ]
  },
  {
   "cell_type": "markdown",
   "metadata": {},
   "source": [
    "Second, run shooting alogthim through raange of paramters. "
   ]
  },
  {
   "cell_type": "markdown",
   "metadata": {},
   "source": [
    "Objectives\n",
    " 1. talk about drag and lift coeffcients of ball\n",
    " 2. simulate trajectories of free kick and corner kick\n",
    " 3. plot in 2D and 3D and desricbe paramters of trajectories\n",
    " 4. Talk in depth about at one goal scoring shot for each: include parameters plots and a plot where omega = 0 to show influence of spin."
   ]
  },
  {
   "cell_type": "markdown",
   "metadata": {},
   "source": [
    "trajectory of free kick should stop calculating when\n",
    "  1. ball reaches goal line\n",
    "  2. ball touches ground\n",
    "  3. ball touches wall"
   ]
  },
  {
   "cell_type": "markdown",
   "metadata": {},
   "source": [
    "trajectory of corner kick should stop calculating when\n",
    "  1. ball reaches goal line\n",
    "  2. ball touches ground"
   ]
  },
  {
   "cell_type": "markdown",
   "metadata": {},
   "source": [
    "Possbily use 3D-plotting to show trajectories of shots. (especally goal-making shots)."
   ]
  },
  {
   "cell_type": "markdown",
   "metadata": {},
   "source": [
    "include refences and acknolegdments \n"
   ]
  }
 ],
 "metadata": {
  "kernelspec": {
   "display_name": "Python 3",
   "language": "python",
   "name": "python3"
  },
  "language_info": {
   "codemirror_mode": {
    "name": "ipython",
    "version": 3
   },
   "file_extension": ".py",
   "mimetype": "text/x-python",
   "name": "python",
   "nbconvert_exporter": "python",
   "pygments_lexer": "ipython3",
   "version": "3.6.3"
  }
 },
 "nbformat": 4,
 "nbformat_minor": 2
}
