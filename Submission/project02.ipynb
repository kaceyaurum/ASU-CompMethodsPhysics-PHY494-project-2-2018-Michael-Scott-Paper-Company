{
 "cells": [
  {
   "cell_type": "markdown",
   "metadata": {},
   "source": [
    "# Pseudo-code for project 2\n",
    "\n",
    "OBJECTIVE: Find parameters of shots that lead to goals using exhaustive parameter scan"
   ]
  },
  {
   "cell_type": "code",
   "execution_count": 1,
   "metadata": {},
   "outputs": [],
   "source": [
    "import numpy as np\n",
    "import pandas as pd\n",
    "import matplotlib.pyplot as plt\n",
    "%matplotlib notebook"
   ]
  },
  {
   "cell_type": "markdown",
   "metadata": {},
   "source": [
    "Should be at least 3 pages long"
   ]
  },
  {
   "cell_type": "markdown",
   "metadata": {},
   "source": [
    "First, define a shooting alogthim function in terms of \n",
    "\n",
    "    rho = air density\n",
    "    \n",
    "    g = Accl due to gravity\n",
    "    \n",
    "    m = mass \n",
    "    \n",
    "    D = diameter \n",
    "    \n",
    "    v0 = speed \n",
    "    \n",
    "    omega = spin (the axis of rotation is perpentidular with the ground)\n",
    "    \n",
    "    phi = azimuthal angle (horivantal angle)\n",
    "    \n",
    "    Theta = elevation angle (vertical angle)\n",
    "    \n",
    "[inspiration can be taken from the baseball homework, hw 7]"
   ]
  },
  {
   "cell_type": "markdown",
   "metadata": {},
   "source": [
    "Second, set up enviroemnts with proper dimensions for the two different types of kicks, including the goal and its target area. \n",
    "    1. free kick \n",
    "    2. corner kick"
   ]
  },
  {
   "cell_type": "markdown",
   "metadata": {},
   "source": [
    "Third, run shooting alogthim through range of paramters. "
   ]
  },
  {
   "cell_type": "code",
   "execution_count": 2,
   "metadata": {},
   "outputs": [],
   "source": [
    "#parameters for free kick \n",
    "rho = 1.2     # kg m^-3\n",
    "g= 9.81     # kg m s^-2\n",
    "m = 0.436    # kg\n",
    "D = 0.218     # m\n",
    "v0 = np.arange(24, 30.1, .1)   # m s^-1\n",
    "omega = np.arange(0, 75.6, .2)   # rad s^-1\n",
    "phi = np.arange(-0.0349066, 0.0872665, .001)  # rad [-2 deg to 5 deg]\n",
    "theta = np.arange(.174533, 0.349066, .001) # rad [10 deg to 20 deg]"
   ]
  },
  {
   "cell_type": "code",
   "execution_count": 3,
   "metadata": {},
   "outputs": [],
   "source": [
    "#parameters for corner kick\n",
    "rho = 1.2     # kg m^-3\n",
    "g= 9.81     # kg m s^-2\n",
    "m = 0.436    # kg\n",
    "D = 0.218     # m\n",
    "v0 = np.arange(24, 30.1, .1)   # m s^-1\n",
    "omega = np.arange(0, 75.6, .2)   # rad s^-1\n",
    "phi = np.arange(-0.0698132, 0.0698132, .001)  # rad [-4 deg to 4 deg]\n",
    "theta = np.arange(0.349066, 0.523599, .001) # rad [20 deg to 30 deg]"
   ]
  },
  {
   "cell_type": "code",
   "execution_count": null,
   "metadata": {},
   "outputs": [],
   "source": []
  },
  {
   "cell_type": "markdown",
   "metadata": {},
   "source": [
    "Objectives\n",
    " 1. talk about drag and lift coeffcients of ball\n",
    " 2. simulate trajectories of free kick and corner kick\n",
    " 3. plot in 2D and 3D and desricbe paramters of trajectories\n",
    " 4. Talk in depth about at one goal scoring shot for each: include parameters plots and a plot where omega = 0 to show influence of spin."
   ]
  },
  {
   "cell_type": "markdown",
   "metadata": {},
   "source": [
    "trajectory of free kick should stop calculating when\n",
    "  1. ball reaches goal line\n",
    "  2. ball touches ground\n",
    "  3. ball touches wall"
   ]
  },
  {
   "cell_type": "markdown",
   "metadata": {},
   "source": [
    "trajectory of corner kick should stop calculating when\n",
    "  1. ball reaches goal line\n",
    "  2. ball touches ground"
   ]
  },
  {
   "cell_type": "markdown",
   "metadata": {},
   "source": [
    "Possbily use 3D-plotting to show trajectories of shots. (especally goal-making shots). guidense can come from 14_PDEs_2.ipynb"
   ]
  },
  {
   "cell_type": "markdown",
   "metadata": {},
   "source": [
    "include refences and acknolegdments \n"
   ]
  }
 ],
 "metadata": {
  "kernelspec": {
   "display_name": "Python 3",
   "language": "python",
   "name": "python3"
  },
  "language_info": {
   "codemirror_mode": {
    "name": "ipython",
    "version": 3
   },
   "file_extension": ".py",
   "mimetype": "text/x-python",
   "name": "python",
   "nbconvert_exporter": "python",
   "pygments_lexer": "ipython3",
   "version": "3.6.3"
  }
 },
 "nbformat": 4,
 "nbformat_minor": 2
}
